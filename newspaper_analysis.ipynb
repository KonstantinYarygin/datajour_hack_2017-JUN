{
 "cells": [
  {
   "cell_type": "code",
   "execution_count": 1,
   "metadata": {
    "collapsed": false
   },
   "outputs": [
    {
     "name": "stderr",
     "output_type": "stream",
     "text": [
      "Using Theano backend.\n"
     ]
    },
    {
     "ename": "ImportError",
     "evalue": "No module named 'lexicon'",
     "output_type": "error",
     "traceback": [
      "\u001b[0;31m---------------------------------------------------------------------------\u001b[0m",
      "\u001b[0;31mImportError\u001b[0m                               Traceback (most recent call last)",
      "\u001b[0;32m<ipython-input-1-b7755b632c61>\u001b[0m in \u001b[0;36m<module>\u001b[0;34m()\u001b[0m\n\u001b[1;32m      2\u001b[0m \u001b[0;32mimport\u001b[0m \u001b[0mgensim\u001b[0m\u001b[0;34m\u001b[0m\u001b[0m\n\u001b[1;32m      3\u001b[0m \u001b[0;32mimport\u001b[0m \u001b[0mnltk\u001b[0m\u001b[0;34m\u001b[0m\u001b[0m\n\u001b[0;32m----> 4\u001b[0;31m \u001b[0;32mimport\u001b[0m \u001b[0mlexicon\u001b[0m\u001b[0;34m\u001b[0m\u001b[0m\n\u001b[0m",
      "\u001b[0;31mImportError\u001b[0m: No module named 'lexicon'"
     ]
    }
   ],
   "source": [
    "import json\n",
    "import gensim\n",
    "import nltk\n"
   ]
  },
  {
   "cell_type": "code",
   "execution_count": 76,
   "metadata": {
    "collapsed": true
   },
   "outputs": [],
   "source": [
    "from collections import defaultdict"
   ]
  },
  {
   "cell_type": "code",
   "execution_count": 16,
   "metadata": {
    "collapsed": false
   },
   "outputs": [
    {
     "name": "stdout",
     "output_type": "stream",
     "text": [
      "[nltk_data] Downloading package punkt to /home/bkovarsky/nltk_data...\n",
      "[nltk_data]   Unzipping tokenizers/punkt.zip.\n"
     ]
    },
    {
     "data": {
      "text/plain": [
       "True"
      ]
     },
     "execution_count": 16,
     "metadata": {},
     "output_type": "execute_result"
    }
   ],
   "source": [
    "# nltk.download('punkt')"
   ]
  },
  {
   "cell_type": "code",
   "execution_count": 3,
   "metadata": {
    "collapsed": false
   },
   "outputs": [],
   "source": [
    "with open(\"lentaruofficial.texts.json\", \"r\") as inpf:\n",
    "    data = json.load(inpf)"
   ]
  },
  {
   "cell_type": "code",
   "execution_count": 25,
   "metadata": {
    "collapsed": true
   },
   "outputs": [],
   "source": [
    "import re"
   ]
  },
  {
   "cell_type": "code",
   "execution_count": null,
   "metadata": {
    "collapsed": true
   },
   "outputs": [],
   "source": [
    "re.sub()"
   ]
  },
  {
   "cell_type": "code",
   "execution_count": 8,
   "metadata": {
    "collapsed": false
   },
   "outputs": [],
   "source": [
    "from nltk.tokenize import sent_tokenize, word_tokenize"
   ]
  },
  {
   "cell_type": "code",
   "execution_count": 24,
   "metadata": {
    "collapsed": true
   },
   "outputs": [],
   "source": [
    "stemmer = nltk.stem.snowball.RussianStemmer()"
   ]
  },
  {
   "cell_type": "code",
   "execution_count": null,
   "metadata": {
    "collapsed": true
   },
   "outputs": [],
   "source": [
    "stemmer = s"
   ]
  },
  {
   "cell_type": "code",
   "execution_count": 36,
   "metadata": {
    "collapsed": true
   },
   "outputs": [],
   "source": [
    "s = \"\""
   ]
  },
  {
   "cell_type": "code",
   "execution_count": 52,
   "metadata": {
    "collapsed": false
   },
   "outputs": [],
   "source": [
    "def word_tokenize_filt(sent, do_lowercase=False, do_stem=False):\n",
    "    words = []\n",
    "    for word in word_tokenize(sent):\n",
    "        word = re.sub('[\\\"\\«\\»]', \"\", word)\n",
    "        if not word:\n",
    "            continue\n",
    "        if do_lowercase:\n",
    "            word = word.lower()\n",
    "        if do_stem:\n",
    "            word = stemmer.stem(word)\n",
    "        words.append(word)\n",
    "    return words"
   ]
  },
  {
   "cell_type": "code",
   "execution_count": 53,
   "metadata": {
    "collapsed": false
   },
   "outputs": [],
   "source": [
    "def preprocess_data(data, do_lowercase=False, do_stem=False):\n",
    "    for i in range(len(data)):\n",
    "        text = data[i][\"text\"]\n",
    "        text = re.sub(\"<[^>]*>\", \"\", text) # remove tags\n",
    "        data[i][\"processed_text\"] = [word_tokenize_filt(sent, do_lowercase, do_stem)\n",
    "                                         for sent in sent_tokenize(data[i][\"text\"])]\n",
    "    return data\n"
   ]
  },
  {
   "cell_type": "code",
   "execution_count": 57,
   "metadata": {
    "collapsed": false
   },
   "outputs": [
    {
     "data": {
      "text/plain": [
       "'рассказыва'"
      ]
     },
     "execution_count": 57,
     "metadata": {},
     "output_type": "execute_result"
    }
   ],
   "source": [
    "stemmer.stem(\"рассказывает\")"
   ]
  },
  {
   "cell_type": "code",
   "execution_count": 58,
   "metadata": {
    "collapsed": true
   },
   "outputs": [],
   "source": [
    "sent = \"По словам Путина, отказаться от своей\""
   ]
  },
  {
   "cell_type": "code",
   "execution_count": 59,
   "metadata": {
    "collapsed": true
   },
   "outputs": [],
   "source": [
    "s = sent.lower()"
   ]
  },
  {
   "cell_type": "code",
   "execution_count": 60,
   "metadata": {
    "collapsed": true
   },
   "outputs": [],
   "source": [
    "p = \"по\\sсловам\\s(?P<source>[\\w\\.\\-\\«\\»]+)\""
   ]
  },
  {
   "cell_type": "code",
   "execution_count": 61,
   "metadata": {
    "collapsed": true
   },
   "outputs": [],
   "source": [
    "d = re.search(p, s)"
   ]
  },
  {
   "cell_type": "code",
   "execution_count": 66,
   "metadata": {
    "collapsed": false
   },
   "outputs": [
    {
     "data": {
      "text/plain": [
       "'путина'"
      ]
     },
     "execution_count": 66,
     "metadata": {},
     "output_type": "execute_result"
    }
   ],
   "source": [
    "d.group(\"source\")"
   ]
  },
  {
   "cell_type": "code",
   "execution_count": 74,
   "metadata": {
    "collapsed": true
   },
   "outputs": [],
   "source": [
    "SOURCE_PATTERNS = (\n",
    "    \"по\\sсловам\\s(?P<source>[\\w\\.\\-\\«\\»]+)\",\n",
    "    \"по\\sданным\\s(?P<source>[\\w\\.\\-\\«\\»]+)\",\n",
    "    \"по\\sсообщению\\s(?P<source>[\\w\\.\\-\\«\\»]+)\",\n",
    "    \"рассказал\\s(?P<source>[\\w\\.\\-\\«\\»]+)\",\n",
    "    \"рассказывает\\s(?P<source>[\\w\\.\\-\\«\\»]+)\",\n",
    "    \"рассказал\\s(?P<source>[\\w\\.\\-\\«\\»]+)\\s(?P<publisher>[\\w\\.\\-\\«\\»]+)\",\n",
    "    \"рассказывает\\s(?P<source>[\\w\\.\\-\\«\\»]+)\\s(?P<publisher>[\\w\\.\\-\\«\\»]+)\",\n",
    "    \"рассказал\\s(?P<publisher>[\\w\\.\\-\\«\\»]+)\\s(?P<source>[\\w\\.\\-\\«\\»]+)\",\n",
    "    \"рассказывает\\s(?P<publisher>[\\w\\.\\-\\«\\»]+)\\s(?P<source>[\\w\\.\\-\\«\\»]+)\",\n",
    "    \"сообщил\\s(?P<source>[\\w\\.\\-\\«\\»]+)\",\n",
    "    \"сообщает\\s(?P<source>[\\w\\.\\-\\«\\»]+)\",\n",
    "    \"сообщил\\s(?P<source>[\\w\\.\\-\\«\\»]+)\\s(?P<publisher>[\\w\\.\\-\\«\\»]+)\",\n",
    "    \"сообщает\\s(?P<source>[\\w\\.\\-\\«\\»]+)\\s(?P<publisher>[\\w\\.\\-\\«\\»]+)\",\n",
    "    \"сообщил\\s(?P<publisher>[\\w\\.\\-\\«\\»]+)\\s(?P<source>[\\w\\.\\-\\«\\»]+)\",\n",
    "    \"сообщает\\s(?P<publisher>[\\w\\.\\-\\«\\»]+)\\s(?P<source>[\\w\\.\\-\\«\\»]+)\",\n",
    "#     \"сообщил\\s(?P<source>[\\w\\.\\-\\«\\»]+)\\sсо\\sссылкой\\sна\\s(?P<source>[\\w\\.\\-\\«\\»]+)\",\n",
    "#     \"сообщает\\s(?P<source>[\\w\\.\\-\\«\\»]+)\\sсо\\sссылкой\\sна\\s(?P<source>[\\w\\.\\-\\«\\»]+)\",\n",
    "#     \"рассказал\\s(?P<source>[\\w\\.\\-\\«\\»]+)\\sсо\\sссылкой\\sна\\s(?P<source>[\\w\\.\\-\\«\\»]+)\",\n",
    "#     \"рассказывает\\s(?P<source>[\\w\\.\\-\\«\\»]+)\\sсо\\sссылкой\\sна\\s(?P<source>[\\w\\.\\-\\«\\»]+)\",\n",
    "    \"сообщил\\s(?P<source>[\\w\\.\\-\\«\\»]+)\\sв\\sбеседе\\sс\\s(?P<publisher>[\\w\\.\\-\\«\\»]+)\",\n",
    "    \"рассказал\\s(?P<source>[\\w\\.\\-\\«\\»]+)\\sв\\sбеседе\\sс\\sPubliser\",\n",
    "    \"в\\s(?P<source>[\\w\\.\\-\\«\\»]+)\\sрассказали\\,\\sчто\",\n",
    "    \"в\\s(?P<source>[\\w\\.\\-\\«\\»]+)\\sрассказывают\\,\\sчто\",\n",
    "    \"в\\s(?P<source>[\\w\\.\\-\\«\\»]+)\\sсообщили\\,\\sчто\",\n",
    "    \"в\\s(?P<source>[\\w\\.\\-\\«\\»]+)\\sотметили\\,\\sчто\",\n",
    "    \"в\\s(?P<source>[\\w\\.\\-\\«\\»]+)\\sговорят\\,\\sчто\",\n",
    "    \"в\\s(?P<source>[\\w\\.\\-\\«\\»]+)\\sсообщают\\,\\sчто\",\n",
    "    \"в\\s(?P<source>[\\w\\.\\-\\«\\»]+)\\sотмечают\\,\\sчто\",\n",
    "    \"в\\s(?P<source>[\\w\\.\\-\\«\\»]+)\\sобяснили\\,\\sчто\",\n",
    "    \"в\\s(?P<source>[\\w\\.\\-\\«\\»]+)\\sобъясняют\\,\\sчто\",\n",
    "    \"как\\sотмечают\\sв\\s(?P<source>[\\w\\.\\-\\«\\»]+)\\,\",\n",
    "    \"как\\sотметили\\sв\\s(?P<source>[\\w\\.\\-\\«\\»]+)\\,\",\n",
    "    \"как\\sотметил\\s(?P<source>[\\w\\.\\-\\«\\»]+)\\,\",\n",
    "    \"как\\sотмечает\\s(?P<source>[\\w\\.\\-\\«\\»]+)\\,\",\n",
    "    \"как\\sрассказал\\s(?P<source>[\\w\\.\\-\\«\\»]+)\\,\",\n",
    "    \"как\\sрассказывает\\s(?P<source>[\\w\\.\\-\\«\\»]+)\\,\",\n",
    "    \"подчеркнул\\s(?P<source>[\\w\\.\\-\\«\\»]+)\",\n",
    "    \"подчеркивает\\s(?P<source>[\\w\\.\\-\\«\\»]+)\",\n",
    "    \"объяснил\\s(?P<source>[\\w\\.\\-\\«\\»]+)\",\n",
    "    \"объяснили\\sв\\s(?P<source>[\\w\\.\\-\\«\\»]+)\",\n",
    "    \"пояснили\\sв\\s(?P<source>[\\w\\.\\-\\«\\»]+)\",\n",
    "    \"уточнили\\sв\\s(?P<source>[\\w\\.\\-\\«\\»]+)\",\n",
    "    \"(?P<source>[\\w\\.\\-\\«\\»]+)\\sобъяснил\\,\\sчто\",\n",
    "    \"(?P<source>[\\w\\.\\-\\«\\»]+)\\sподчеркнул\\,\\sчто\",\n",
    "    \"(?P<source>[\\w\\.\\-\\«\\»]+)\\sпояснил\\,\\sчто\",\n",
    "    \"(?P<source>[\\w\\.\\-\\«\\»]+)\\sуточнил\\,\\sчто\",\n",
    "        )\n",
    "\n",
    "\n",
    "def get_sources(data):\n",
    "    sources = []\n",
    "    for entry in data:\n",
    "        for sent in sent_tokenize(entry[\"text\"]):\n",
    "            for pattern in SOURCE_PATTERNS:\n",
    "                match = re.search(pattern, sent.lower())\n",
    "                if match:\n",
    "                    sources.append(match.group(\"source\"))\n",
    "    return sources"
   ]
  },
  {
   "cell_type": "code",
   "execution_count": 84,
   "metadata": {
    "collapsed": true
   },
   "outputs": [],
   "source": [
    "def make_word_id_mappings(data):\n",
    "    counts = defaultdict(int)\n",
    "    for entry in data:\n",
    "        for sent in entry[\"processed_text\"]:\n",
    "            for word in sent:\n",
    "                counts[word] += 1\n",
    "    counts = sorted(list(counts.items()), key=lambda x: x[1], reverse=True)\n",
    "    word_to_id = dict()\n",
    "    id_to_word = []\n",
    "    \n",
    "    for i, (word, _) in enumerate(counts):\n",
    "        word_to_id[word] = i\n",
    "        id_to_word.append(word)\n",
    "    \n",
    "    return counts, word_to_id, id_to_word\n",
    "    \n",
    "    "
   ]
  },
  {
   "cell_type": "code",
   "execution_count": 85,
   "metadata": {
    "collapsed": false
   },
   "outputs": [],
   "source": [
    "counts, word_to_id, id_to_word = make_word_id_mappings(data)"
   ]
  }
 ],
 "metadata": {
  "kernelspec": {
   "display_name": "Python 3",
   "language": "python",
   "name": "python3"
  },
  "language_info": {
   "codemirror_mode": {
    "name": "ipython",
    "version": 3
   },
   "file_extension": ".py",
   "mimetype": "text/x-python",
   "name": "python",
   "nbconvert_exporter": "python",
   "pygments_lexer": "ipython3",
   "version": "3.4.3"
  }
 },
 "nbformat": 4,
 "nbformat_minor": 2
}
